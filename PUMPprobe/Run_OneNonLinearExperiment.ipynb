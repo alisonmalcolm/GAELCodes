{
 "cells": [
  {
   "cell_type": "markdown",
   "metadata": {},
   "source": [
    "## Code to record a single PUMP/probe experiment \n",
    "Experimental setup is here: https://www.protocols.io/edit/pump-probe-experiment-cbvxsn7n \n",
    "\n",
    "and in this paper: \n",
    "\n",
    "Gallot, T., et al. \"Characterizing the nonlinear interaction of S-and P-waves in a rock sample.\" Journal of Applied Physics 117.3 (2015): 034902."
   ]
  },
  {
   "cell_type": "code",
   "execution_count": 2,
   "metadata": {},
   "outputs": [],
   "source": [
    "#Import necessary files etc\n",
    "from numpy import *\n",
    "from pylab import *\n",
    "import string\n",
    "\n",
    "from datetime import date\n",
    "\n",
    "#for connecting with the scope\n",
    "import AgilentSCPI\n",
    "import time\n",
    "import numpy as np\n",
    "import sys\n",
    "import matplotlib.pyplot as plt\n",
    "import time"
   ]
  },
  {
   "cell_type": "markdown",
   "metadata": {},
   "source": [
    "### Parameter setup"
   ]
  },
  {
   "cell_type": "code",
   "execution_count": 2,
   "metadata": {},
   "outputs": [
    {
     "name": "stdout",
     "output_type": "stream",
     "text": [
      "8.192\n"
     ]
    }
   ],
   "source": [
    "delayvec=np.arange(0,90,1)\n",
    "n_aves=4096\n",
    "#2 ms between pulses, this is how long to wait to ensure that one signal is \n",
    "#recorded before sending another signal\n",
    "t_delay=n_aves*2e-3 \n",
    "addtodelay=54  #shift so that probe waveform is in the centre of the oscilloscope screen at the first delay\n",
    "#Place to write data (note we will make sub-directories with parameters)\n",
    "fname_root=\"/Users/amalcolm/Dropbox/Nonlinear/Experiments/MyData/WetBerea/Dry/ProbeOnTop/May13/\"\n",
    "ampval=8.0"
   ]
  },
  {
   "cell_type": "markdown",
   "metadata": {},
   "source": [
    "### Classes for handling and storing the data"
   ]
  },
  {
   "cell_type": "code",
   "execution_count": 3,
   "metadata": {
    "collapsed": true
   },
   "outputs": [],
   "source": [
    "#For the data, store a time vector and data vector together\n",
    "class timedata:\n",
    "\n",
    "    def __init__(self, name):\n",
    "        self.name = name\n",
    "        self.time = np.array    # creates a new empty list\n",
    "        self.data = np.array    # creates a new empty list\n"
   ]
  },
  {
   "cell_type": "code",
   "execution_count": 4,
   "metadata": {
    "collapsed": true
   },
   "outputs": [],
   "source": [
    "def readlabdat(fname,dataset):\n",
    "# read in data from the scope and make a matrix of values from it\n",
    "    \n",
    "    \n",
    "    f = open(fname,'r')\n",
    "    tmp1=[]\n",
    "    tmp2=[]\n",
    "    \n",
    "    for line in f:\n",
    "        columns = line.split(',')\n",
    "        tmp1.append(float(columns[0]))\n",
    "        tmp2.append(float(columns[1]))\n",
    "\n",
    "    dataset.time=np.asarray(tmp1)\n",
    "    dataset.data=np.asarray(tmp2)\n",
    "    f.close()\n",
    "        "
   ]
  },
  {
   "cell_type": "code",
   "execution_count": 5,
   "metadata": {
    "collapsed": true
   },
   "outputs": [],
   "source": [
    "# read data from oscilloscope and save to file\n",
    "def saveWave(filename,chs):\n",
    "    for ch in chs:\n",
    "        p1,x1 = osc.OscRead2Numpy(ch)\n",
    "        if 'data' in locals():\n",
    "            data = vstack((data,x1))\n",
    "        else:\n",
    "            data = x1\n",
    "            \n",
    "    \n",
    "    t = arange(len(x1))*p1[4] + p1[5]\n",
    "    data = vstack((t,data)).T\n",
    "    savetxt(filename, data, fmt=\"%12.6G\", delimiter=',')\n",
    "    print(str(shape(data)), \" data points saved to \"+filename)"
   ]
  },
  {
   "cell_type": "markdown",
   "metadata": {},
   "source": [
    "### Setup Function Generator"
   ]
  },
  {
   "cell_type": "code",
   "execution_count": 6,
   "metadata": {},
   "outputs": [
    {
     "name": "stdout",
     "output_type": "stream",
     "text": [
      "Agilent Technologies,33522B,MY52802044,3.03-1.19-2.00-52-00\n",
      "\n"
     ]
    },
    {
     "data": {
      "text/plain": [
       "16"
      ]
     },
     "execution_count": 6,
     "metadata": {},
     "output_type": "execute_result"
    }
   ],
   "source": [
    "funcgen = AgilentSCPI.SCPI(\"134.153.37.159\")  #IP address is available from the equipment\n",
    "#Check its status\n",
    "q=funcgen.query('*IDN?\\n')\n",
    "#Load the setup file\n",
    "setupFile=\"STATE_BEREA_MAY13.STA\"\n",
    "cmd = \":MMEMory:LOAD:STATe 'INT:\\\\\"+setupFile+\"'\\n\"\n",
    "funcgen.s.send(cmd)\n",
    "#Set the amplitude of the PUMP (first) and then the probe\n",
    "funcgen.s.send(\":SOUR2:VOLT\"+\" \"+str(ampval)+\"\\n\")\n",
    "funcgen.s.send(\":SOUR1:VOLT\"+\" 5.0\"+\"\\n\")\n"
   ]
  },
  {
   "cell_type": "markdown",
   "metadata": {},
   "source": [
    "### Setup Oscilloscope"
   ]
  },
  {
   "cell_type": "code",
   "execution_count": 7,
   "metadata": {},
   "outputs": [
    {
     "name": "stdout",
     "output_type": "stream",
     "text": [
      "AGILENT TECHNOLOGIES,MSO-X 2014A,MY54100349,02.36.2013091301\n",
      "\n"
     ]
    },
    {
     "data": {
      "text/plain": [
       "20"
      ]
     },
     "execution_count": 7,
     "metadata": {},
     "output_type": "execute_result"
    }
   ],
   "source": [
    "#IP address available from scope in the LAN setup \n",
    "osc = AgilentSCPI.SCPI(\"134.153.37.68\")\n",
    "#Check the connection\n",
    "q2=osc.query('*IDN?\\n')\n",
    "print(q2)\n",
    "#reset to get default values\n",
    "osc.reset()\n",
    "#Set trigger parameters\n",
    "osc.s.send(\":TRIGger:EDGE:SOURCe EXTernal\\n\")\n",
    "osc.s.send(\":TRIGger:EDGE:LEVel 5.0\\n\")\n",
    "osc.s.send(\":TRIGger:EDGE:SLOPe POSitive\\n\")\n",
    "#Set time scale parameters\n",
    "osc.s.send(\":TIM:REF LEFT\\n\")\n",
    "osc.s.send(\":TIM:DEL 30us\\n\")\n",
    "osc.s.send(\":TIM:SCAL 0.5us\\n\")\n",
    "#Set voltage scale parameters\n",
    "osc.s.send(\":CHANnel1:SCALe 0.01\\n\")\n",
    "#Set acquisition and averaging parameters\n",
    "osc.s.send(\":ACQuire:TYPE AVERage\\n\")\n",
    "osc.s.send(\":ACQuire:COUNt 4096\\n\")"
   ]
  },
  {
   "cell_type": "markdown",
   "metadata": {},
   "source": [
    "### Run the experiment\n",
    "First record the PUMP by itself, on a larger scale, then loop through all delays and collect all necessary signals."
   ]
  },
  {
   "cell_type": "code",
   "execution_count": 8,
   "metadata": {},
   "outputs": [
    {
     "name": "stdout",
     "output_type": "stream",
     "text": [
      "(7679, 2) data points saved to /Users/amalcolm/Dropbox/Nonlinear/Experiments/MyData/WetBerea/Dry/ProbeOnTop/May13/STrans_B4.csv\n",
      "(2500, 2) data points saved to /Users/amalcolm/Dropbox/Nonlinear/Experiments/MyData/WetBerea/Dry/ProbeOnTop/May13/pr30.csv\n",
      "(2500, 2) data points saved to /Users/amalcolm/Dropbox/Nonlinear/Experiments/MyData/WetBerea/Dry/ProbeOnTop/May13/pu30.csv\n",
      "(2500, 2) data points saved to /Users/amalcolm/Dropbox/Nonlinear/Experiments/MyData/WetBerea/Dry/ProbeOnTop/May13/pp30.csv\n",
      "(2500, 2) data points saved to /Users/amalcolm/Dropbox/Nonlinear/Experiments/MyData/WetBerea/Dry/ProbeOnTop/May13/pr31.csv\n",
      "(2500, 2) data points saved to /Users/amalcolm/Dropbox/Nonlinear/Experiments/MyData/WetBerea/Dry/ProbeOnTop/May13/pu31.csv\n",
      "(2500, 2) data points saved to /Users/amalcolm/Dropbox/Nonlinear/Experiments/MyData/WetBerea/Dry/ProbeOnTop/May13/pp31.csv\n",
      "(2500, 2) data points saved to /Users/amalcolm/Dropbox/Nonlinear/Experiments/MyData/WetBerea/Dry/ProbeOnTop/May13/pr32.csv\n",
      "(2500, 2) data points saved to /Users/amalcolm/Dropbox/Nonlinear/Experiments/MyData/WetBerea/Dry/ProbeOnTop/May13/pu32.csv\n",
      "(2500, 2) data points saved to /Users/amalcolm/Dropbox/Nonlinear/Experiments/MyData/WetBerea/Dry/ProbeOnTop/May13/pp32.csv\n",
      "(2500, 2) data points saved to /Users/amalcolm/Dropbox/Nonlinear/Experiments/MyData/WetBerea/Dry/ProbeOnTop/May13/pr33.csv\n",
      "(2500, 2) data points saved to /Users/amalcolm/Dropbox/Nonlinear/Experiments/MyData/WetBerea/Dry/ProbeOnTop/May13/pu33.csv\n",
      "(2500, 2) data points saved to /Users/amalcolm/Dropbox/Nonlinear/Experiments/MyData/WetBerea/Dry/ProbeOnTop/May13/pp33.csv\n",
      "(2500, 2) data points saved to /Users/amalcolm/Dropbox/Nonlinear/Experiments/MyData/WetBerea/Dry/ProbeOnTop/May13/pr34.csv\n",
      "(2500, 2) data points saved to /Users/amalcolm/Dropbox/Nonlinear/Experiments/MyData/WetBerea/Dry/ProbeOnTop/May13/pu34.csv\n",
      "(2500, 2) data points saved to /Users/amalcolm/Dropbox/Nonlinear/Experiments/MyData/WetBerea/Dry/ProbeOnTop/May13/pp34.csv\n",
      "(2500, 2) data points saved to /Users/amalcolm/Dropbox/Nonlinear/Experiments/MyData/WetBerea/Dry/ProbeOnTop/May13/pr35.csv\n",
      "(2500, 2) data points saved to /Users/amalcolm/Dropbox/Nonlinear/Experiments/MyData/WetBerea/Dry/ProbeOnTop/May13/pu35.csv\n",
      "(2500, 2) data points saved to /Users/amalcolm/Dropbox/Nonlinear/Experiments/MyData/WetBerea/Dry/ProbeOnTop/May13/pp35.csv\n",
      "(2500, 2) data points saved to /Users/amalcolm/Dropbox/Nonlinear/Experiments/MyData/WetBerea/Dry/ProbeOnTop/May13/pr36.csv\n",
      "(2500, 2) data points saved to /Users/amalcolm/Dropbox/Nonlinear/Experiments/MyData/WetBerea/Dry/ProbeOnTop/May13/pu36.csv\n",
      "(2500, 2) data points saved to /Users/amalcolm/Dropbox/Nonlinear/Experiments/MyData/WetBerea/Dry/ProbeOnTop/May13/pp36.csv\n",
      "(2500, 2) data points saved to /Users/amalcolm/Dropbox/Nonlinear/Experiments/MyData/WetBerea/Dry/ProbeOnTop/May13/pr37.csv\n",
      "(2500, 2) data points saved to /Users/amalcolm/Dropbox/Nonlinear/Experiments/MyData/WetBerea/Dry/ProbeOnTop/May13/pu37.csv\n",
      "(2500, 2) data points saved to /Users/amalcolm/Dropbox/Nonlinear/Experiments/MyData/WetBerea/Dry/ProbeOnTop/May13/pp37.csv\n",
      "(2500, 2) data points saved to /Users/amalcolm/Dropbox/Nonlinear/Experiments/MyData/WetBerea/Dry/ProbeOnTop/May13/pr38.csv\n",
      "(2500, 2) data points saved to /Users/amalcolm/Dropbox/Nonlinear/Experiments/MyData/WetBerea/Dry/ProbeOnTop/May13/pu38.csv\n",
      "(2500, 2) data points saved to /Users/amalcolm/Dropbox/Nonlinear/Experiments/MyData/WetBerea/Dry/ProbeOnTop/May13/pp38.csv\n",
      "(2500, 2) data points saved to /Users/amalcolm/Dropbox/Nonlinear/Experiments/MyData/WetBerea/Dry/ProbeOnTop/May13/pr39.csv\n",
      "(2500, 2) data points saved to /Users/amalcolm/Dropbox/Nonlinear/Experiments/MyData/WetBerea/Dry/ProbeOnTop/May13/pu39.csv\n",
      "(2500, 2) data points saved to /Users/amalcolm/Dropbox/Nonlinear/Experiments/MyData/WetBerea/Dry/ProbeOnTop/May13/pp39.csv\n",
      "(2500, 2) data points saved to /Users/amalcolm/Dropbox/Nonlinear/Experiments/MyData/WetBerea/Dry/ProbeOnTop/May13/pr40.csv\n",
      "(2500, 2) data points saved to /Users/amalcolm/Dropbox/Nonlinear/Experiments/MyData/WetBerea/Dry/ProbeOnTop/May13/pu40.csv\n",
      "(2500, 2) data points saved to /Users/amalcolm/Dropbox/Nonlinear/Experiments/MyData/WetBerea/Dry/ProbeOnTop/May13/pp40.csv\n",
      "(2500, 2) data points saved to /Users/amalcolm/Dropbox/Nonlinear/Experiments/MyData/WetBerea/Dry/ProbeOnTop/May13/pr41.csv\n",
      "(2500, 2) data points saved to /Users/amalcolm/Dropbox/Nonlinear/Experiments/MyData/WetBerea/Dry/ProbeOnTop/May13/pu41.csv\n",
      "(2500, 2) data points saved to /Users/amalcolm/Dropbox/Nonlinear/Experiments/MyData/WetBerea/Dry/ProbeOnTop/May13/pp41.csv\n",
      "(2500, 2) data points saved to /Users/amalcolm/Dropbox/Nonlinear/Experiments/MyData/WetBerea/Dry/ProbeOnTop/May13/pr42.csv\n",
      "(2500, 2) data points saved to /Users/amalcolm/Dropbox/Nonlinear/Experiments/MyData/WetBerea/Dry/ProbeOnTop/May13/pu42.csv\n",
      "(2500, 2) data points saved to /Users/amalcolm/Dropbox/Nonlinear/Experiments/MyData/WetBerea/Dry/ProbeOnTop/May13/pp42.csv\n",
      "(2500, 2) data points saved to /Users/amalcolm/Dropbox/Nonlinear/Experiments/MyData/WetBerea/Dry/ProbeOnTop/May13/pr43.csv\n",
      "(2500, 2) data points saved to /Users/amalcolm/Dropbox/Nonlinear/Experiments/MyData/WetBerea/Dry/ProbeOnTop/May13/pu43.csv\n",
      "(2500, 2) data points saved to /Users/amalcolm/Dropbox/Nonlinear/Experiments/MyData/WetBerea/Dry/ProbeOnTop/May13/pp43.csv\n",
      "(2500, 2) data points saved to /Users/amalcolm/Dropbox/Nonlinear/Experiments/MyData/WetBerea/Dry/ProbeOnTop/May13/pr44.csv\n",
      "(2500, 2) data points saved to /Users/amalcolm/Dropbox/Nonlinear/Experiments/MyData/WetBerea/Dry/ProbeOnTop/May13/pu44.csv\n",
      "(2500, 2) data points saved to /Users/amalcolm/Dropbox/Nonlinear/Experiments/MyData/WetBerea/Dry/ProbeOnTop/May13/pp44.csv\n",
      "(2500, 2) data points saved to /Users/amalcolm/Dropbox/Nonlinear/Experiments/MyData/WetBerea/Dry/ProbeOnTop/May13/pr45.csv\n",
      "(2500, 2) data points saved to /Users/amalcolm/Dropbox/Nonlinear/Experiments/MyData/WetBerea/Dry/ProbeOnTop/May13/pu45.csv\n",
      "(2500, 2) data points saved to /Users/amalcolm/Dropbox/Nonlinear/Experiments/MyData/WetBerea/Dry/ProbeOnTop/May13/pp45.csv\n",
      "(2500, 2) data points saved to /Users/amalcolm/Dropbox/Nonlinear/Experiments/MyData/WetBerea/Dry/ProbeOnTop/May13/pr46.csv\n",
      "(2500, 2) data points saved to /Users/amalcolm/Dropbox/Nonlinear/Experiments/MyData/WetBerea/Dry/ProbeOnTop/May13/pu46.csv\n",
      "(2500, 2) data points saved to /Users/amalcolm/Dropbox/Nonlinear/Experiments/MyData/WetBerea/Dry/ProbeOnTop/May13/pp46.csv\n",
      "(2500, 2) data points saved to /Users/amalcolm/Dropbox/Nonlinear/Experiments/MyData/WetBerea/Dry/ProbeOnTop/May13/pr47.csv\n",
      "(2500, 2) data points saved to /Users/amalcolm/Dropbox/Nonlinear/Experiments/MyData/WetBerea/Dry/ProbeOnTop/May13/pu47.csv\n",
      "(2500, 2) data points saved to /Users/amalcolm/Dropbox/Nonlinear/Experiments/MyData/WetBerea/Dry/ProbeOnTop/May13/pp47.csv\n",
      "(2500, 2) data points saved to /Users/amalcolm/Dropbox/Nonlinear/Experiments/MyData/WetBerea/Dry/ProbeOnTop/May13/pr48.csv\n",
      "(2500, 2) data points saved to /Users/amalcolm/Dropbox/Nonlinear/Experiments/MyData/WetBerea/Dry/ProbeOnTop/May13/pu48.csv\n",
      "(2500, 2) data points saved to /Users/amalcolm/Dropbox/Nonlinear/Experiments/MyData/WetBerea/Dry/ProbeOnTop/May13/pp48.csv\n",
      "(2500, 2) data points saved to /Users/amalcolm/Dropbox/Nonlinear/Experiments/MyData/WetBerea/Dry/ProbeOnTop/May13/pr49.csv\n",
      "(2500, 2) data points saved to /Users/amalcolm/Dropbox/Nonlinear/Experiments/MyData/WetBerea/Dry/ProbeOnTop/May13/pu49.csv\n",
      "(2500, 2) data points saved to /Users/amalcolm/Dropbox/Nonlinear/Experiments/MyData/WetBerea/Dry/ProbeOnTop/May13/pp49.csv\n"
     ]
    },
    {
     "data": {
      "text/plain": [
       "11"
      ]
     },
     "execution_count": 8,
     "metadata": {},
     "output_type": "execute_result"
    }
   ],
   "source": [
    "#Set up the function generator so that only the PUMP is sent\n",
    "funcgen.s.send(\":SOUR2:VOLT\"+\" \"+str(ampval)+\"\\n\")\n",
    "funcgen.s.send(\":OUTP1 ON\\n\")\n",
    "funcgen.s.send(\":OUTP2 ON\\n\")\n",
    "cmd=\":TRIG:DEL \"+str(0)+\"us\\n\"\n",
    "funcgen.s.send(cmd)\n",
    "#Save the PUMP waveform from the oscilloscope\n",
    "fname=fname_root+str(\"STrans_B4.csv\")\n",
    "osc.s.send(\":TIM:REF LEFT\\n\")\n",
    "osc.s.send(\":TIM:SCAL 20us\\n\")\n",
    "osc.s.send(\":TIM:DEL 30us\\n\")\n",
    "osc.s.send(\"CHANnel2:SCALe 25\\n\")\n",
    "saveWave(fname,[2])\n",
    "osc.s.send(\":TIM:SCAL 1.0us\\n\")\n",
    "\n",
    "\n",
    "scaldel=1  #parameter for changing the filename if there's a decimal in the delays\n",
    "#Run through all of the delays and do the experiment\n",
    "for delay in delayvec:\n",
    "    #set delay\n",
    "    cmd=\":TRIG:DEL \"+str(delay)+\"us\\n\"\n",
    "    funcgen.s.send(cmd)\n",
    "    \n",
    "    osc.s.send(\":TIM:DEL \"+ str(addtodelay+delay)+\"us\\n\")\n",
    "\n",
    "    #record probe only\n",
    "    funcgen.s.send(\":OUTP1 ON\\n\") #probe on\n",
    "    funcgen.s.send(\":OUTP2 OFF\\n\") #PUMP off\n",
    "\n",
    "    time.sleep(t_delay)\n",
    "\n",
    "    fname=fname_root+\"pr\"+str(int(scaldel*delay))+\".csv\"\n",
    "    saveWave(fname,[1])\n",
    "\n",
    "    #record PUMP only\n",
    "    osc.s.send(\":TIM:DEL \"+ str(addtodelay+delay)+\"us\\n\")\n",
    "    funcgen.s.send(\":OUTP1 OFF\\n\") #probe on\n",
    "    funcgen.s.send(\":OUTP2 ON\\n\") #PUMP off\n",
    "    time.sleep(t_delay)\n",
    "\n",
    "    fname=fname_root+\"pu\"+str(int(scaldel*delay))+\".csv\"\n",
    "    saveWave(fname,[1])\n",
    "\n",
    "    #record PUMP and probe\n",
    "    osc.s.send(\":TIM:DEL \"+ str(addtodelay+delay)+\"us\\n\")\n",
    "    funcgen.s.send(\":OUTP1 ON\\n\") #probe on\n",
    "    funcgen.s.send(\":OUTP2 ON\\n\") #PUMP off\n",
    "    time.sleep(t_delay)\n",
    "\n",
    "    fname=fname_root+\"pp\"+str(int(scaldel*delay))+\".csv\"\n",
    "    saveWave(fname,[1])\n",
    "\n",
    "#Turn off function generator so that we are not sending waves any longer\n",
    "funcgen.s.send(\":OUTP1 OFF\\n\")\n",
    "funcgen.s.send(\":OUTP2 OFF\\n\")"
   ]
  },
  {
   "cell_type": "code",
   "execution_count": null,
   "metadata": {
    "collapsed": true
   },
   "outputs": [],
   "source": []
  }
 ],
 "metadata": {
  "kernelspec": {
   "display_name": "Python 3 (ipykernel)",
   "language": "python",
   "name": "python3"
  },
  "language_info": {
   "codemirror_mode": {
    "name": "ipython",
    "version": 3
   },
   "file_extension": ".py",
   "mimetype": "text/x-python",
   "name": "python",
   "nbconvert_exporter": "python",
   "pygments_lexer": "ipython3",
   "version": "3.7.12"
  }
 },
 "nbformat": 4,
 "nbformat_minor": 1
}
