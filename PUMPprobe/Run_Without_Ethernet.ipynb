{
 "cells": [
  {
   "cell_type": "code",
   "execution_count": 47,
   "metadata": {},
   "outputs": [],
   "source": [
    "from numpy import *\n",
    "from pylab import *\n",
    "import string\n",
    "\n",
    "from datetime import date\n",
    "\n",
    "import AgilentSCPI\n",
    "import time\n",
    "import numpy as np\n",
    "import sys\n",
    "import matplotlib.pyplot as plt\n",
    "import time\n",
    "import visa\n",
    "import socket"
   ]
  },
  {
   "cell_type": "code",
   "execution_count": 48,
   "metadata": {},
   "outputs": [
    {
     "name": "stdout",
     "output_type": "stream",
     "text": [
      "8.192\n",
      "(u'USB0::0x0957::0x1798::MY54100349::INSTR', u'USB0::0x0957::0x2607::MY52202006::INSTR', u'ASRL1::INSTR', u'ASRL2::INSTR', u'ASRL3::INSTR', u'ASRL4::INSTR')\n"
     ]
    }
   ],
   "source": [
    "delayvec=np.arange(1,50,1)\n",
    "n_aves=4096\n",
    "t_delay=n_aves*2e-3 #2 ms between pulses\n",
    "#addtodelay=49#O1 Sample 2\n",
    "#addtodelay=47 #Sample 1\n",
    "addtodelay=56 #Sample 3, Orientation1\n",
    "#addtodelay=47 #Sample 4, Orientation1\n",
    "fname_root=\"/Users/amalcolm/Lauren/Baseline/Sample3/Sanded/NoEther/Jan10/Orientation2/StoS/Attempt2/\"\n",
    "AMP=[10.0]\n",
    "Ntrials=1\n",
    "rm=visa.ResourceManager()\n",
    "print(rm.list_resources())"
   ]
  },
  {
   "cell_type": "code",
   "execution_count": 49,
   "metadata": {
    "collapsed": true
   },
   "outputs": [],
   "source": [
    "class timedata:\n",
    "\n",
    "    def __init__(osc, name):\n",
    "        osc.name = name\n",
    "        osc.time = np.array    # creates a new empty list\n",
    "        osc.data = np.array    # creates a new empty list\n"
   ]
  },
  {
   "cell_type": "code",
   "execution_count": 50,
   "metadata": {
    "collapsed": true
   },
   "outputs": [],
   "source": [
    "def readlabdat(fname,dataset):\n",
    "# read in data from the scope and make a matrix of values from it\n",
    "    \n",
    "    \n",
    "    f = open(fname,'r')\n",
    "    #header1=f.readline()\n",
    "    #header2=f.readline()\n",
    "    tmp1=[]\n",
    "    tmp2=[]\n",
    "    \n",
    "    for line in f:\n",
    "        columns = line.split(',')\n",
    "        tmp1.append(float(columns[0]))\n",
    "        tmp2.append(float(columns[1]))\n",
    "\n",
    "    dataset.time=np.asarray(tmp1)\n",
    "    dataset.data=np.asarray(tmp2)\n",
    "    f.close()\n",
    "        "
   ]
  },
  {
   "cell_type": "code",
   "execution_count": 51,
   "metadata": {
    "collapsed": true
   },
   "outputs": [],
   "source": [
    "def OscRead2NumpyNoNet(osc,channel,npts):                                                                                  \n",
    "        del osc.timeout                                                                                                    \n",
    "#        osc.write(':WAVeform:POINts:MODE RAW')                                                                            \n",
    "        osc.write(':WAVeform:FORMat ASCII')                                                                                \n",
    "        cmd = \":WAVeform:SOURce CHANnel\"+str(channel)                                                                     \n",
    "        osc.write(cmd)                                                                                                    \n",
    "                                                                                                                           \n",
    "        cmd = \":WAVeform:POINts \"+str(npts)                                                                                \n",
    "        # print cmd                                                                                                        \n",
    "        osc.write(cmd)                                                                                                     \n",
    "                                                                                                                           \n",
    "        #print \"getting preamble\"                                                                                           \n",
    "        c=osc.ask(\":WAVeform:PREamble?\")\n",
    "        a=c.encode('ascii','ignore')\n",
    "        p=a.split(',')\n",
    "        p2=[float(ip) for ip in p]\n",
    "        preamble=np.asarray(p2)\n",
    "#        t0=np.float(junk[5])                                                                                              \n",
    "#        dt=np.float(junk[4])                                                                                              \n",
    "#        nt=np.max(np.shape(data))                                                                                         \n",
    "#        tvec=np.linspace(t0,t0+dt*nt,nt)                                                                                  \n",
    "        #print \"getting data\"                                                                                               \n",
    "        data_bytes = osc.ask(':WAVeform:DATA?')                                                                            \n",
    "        data1=data_bytes[10:-1]                                                                                            \n",
    "        values = data1.split(',') \n",
    "        val2=[float(iv) for iv in values]\n",
    "                                                                                                                           \n",
    "        data=np.asarray(val2)                                                                                            \n",
    "                                                                                                                           \n",
    "        return preamble, data                "
   ]
  },
  {
   "cell_type": "code",
   "execution_count": 52,
   "metadata": {
    "collapsed": true
   },
   "outputs": [],
   "source": [
    "# read data from oscilloscope and save to file\n",
    "def saveWave(osc,filename,chs,npts=4096):\n",
    "    for ch in chs:\n",
    "        p1,x1 = OscRead2NumpyNoNet(osc,ch,npts)\n",
    "        if 'data' in locals():\n",
    "            data = vstack((data,x1))\n",
    "        else:\n",
    "            data = x1\n",
    "            \n",
    "    #print p1\n",
    "    t = arange(len(x1))*p1[4] + p1[5]\n",
    "    data = vstack((t,data)).T\n",
    "    savetxt(filename, data, fmt=\"%12.6G\", delimiter=',')\n",
    "    print(str(shape(data))+ \" data points saved to \"+filename)"
   ]
  },
  {
   "cell_type": "markdown",
   "metadata": {},
   "source": [
    "Setup Function Generator"
   ]
  },
  {
   "cell_type": "code",
   "execution_count": 53,
   "metadata": {},
   "outputs": [
    {
     "data": {
      "text/plain": [
       "(18L, <StatusCode.success: 0>)"
      ]
     },
     "execution_count": 53,
     "metadata": {},
     "output_type": "execute_result"
    }
   ],
   "source": [
    "#funcgen = AgilentSCPI.SCPI(\"USB0::0x0957::0x2607::MY52202006::INSTR\")\n",
    "funcgen = rm.open_resource('USB0::0x0957::0x2607::MY52202006::INSTR')\n",
    "setupFile=\"STATE_10\"\n",
    "#setupFile=\"STATE_BASELINE2\"\n",
    "cmd = \":MMEMory:LOAD:STATe 'INT:\\\\\"+setupFile+\"'\\n\"\n",
    "funcgen.write(cmd)\n",
    "funcgen.write(\":SOUR2:VOLT\"+\" \"+str(AMP[0])+\"\\n\")\n",
    "funcgen.write(\":SOUR1:VOLT\"+\" 5.0\"+\"\\n\")"
   ]
  },
  {
   "cell_type": "markdown",
   "metadata": {},
   "source": [
    "Setup Oscilloscope"
   ]
  },
  {
   "cell_type": "code",
   "execution_count": 55,
   "metadata": {},
   "outputs": [
    {
     "name": "stdout",
     "output_type": "stream",
     "text": [
      "(3839, 2) data points saved to /Users/amalcolm/Lauren/Baseline/Sample3/Sanded/NoEther/Jan10/Orientation2/StoS/Attempt2/junk.csv\n"
     ]
    }
   ],
   "source": [
    "#osc = rm.open_resource(\"USB0::0x0957::0x1798::MY56040367::INSTR\")\n",
    "osc = rm.open_resource(\"USB0::0x0957::0x1798::MY54100349::INSTR\")\n",
    "osc.write(\"*RST\\n\")\n",
    "osc.write(\"*CLS\\n\")\n",
    "osc.write(\":TRIGger:EDGE:SOURCe EXTernal\\n\")\n",
    "osc.write(\":TRIGger:EDGE:LEVel 5.0\\n\")\n",
    "osc.write(\":TRIGger:EDGE:SLOPe POSitive\\n\")\n",
    "osc.write(\":TIM:REF LEFT\\n\")\n",
    "osc.write(\":TIM:DEL 30us\\n\")\n",
    "osc.write(\":TIM:SCAL 0.5us\\n\")\n",
    "osc.write(\":CHANnel1:SCALe 0.01\\n\")\n",
    "osc.write(\":ACQuire:TYPE AVERage\\n\")\n",
    "osc.write(\":ACQuire:COUNt 4096\\n\")\n",
    "osc.write(\":WAVeform:POINts 4096\")\n",
    "fname=fname_root+\"junk.csv\"\n",
    "saveWave(osc,fname,[1])"
   ]
  },
  {
   "cell_type": "code",
   "execution_count": 56,
   "metadata": {},
   "outputs": [
    {
     "name": "stdout",
     "output_type": "stream",
     "text": [
      "(3839, 2) data points saved to /Users/amalcolm/Lauren/Baseline/Sample3/Sanded/NoEther/Jan10/Orientation2/StoS/Attempt2/Trial1/10.0V/STrans_B4.csv\n",
      "(2500, 2) data points saved to /Users/amalcolm/Lauren/Baseline/Sample3/Sanded/NoEther/Jan10/Orientation2/StoS/Attempt2/Trial1/10.0V/pr1.csv\n",
      "(2500, 2) data points saved to /Users/amalcolm/Lauren/Baseline/Sample3/Sanded/NoEther/Jan10/Orientation2/StoS/Attempt2/Trial1/10.0V/pu1.csv\n",
      "(2500, 2) data points saved to /Users/amalcolm/Lauren/Baseline/Sample3/Sanded/NoEther/Jan10/Orientation2/StoS/Attempt2/Trial1/10.0V/pp1.csv\n",
      "(2500, 2) data points saved to /Users/amalcolm/Lauren/Baseline/Sample3/Sanded/NoEther/Jan10/Orientation2/StoS/Attempt2/Trial1/10.0V/pr2.csv\n",
      "(2500, 2) data points saved to /Users/amalcolm/Lauren/Baseline/Sample3/Sanded/NoEther/Jan10/Orientation2/StoS/Attempt2/Trial1/10.0V/pu2.csv\n",
      "(2500, 2) data points saved to /Users/amalcolm/Lauren/Baseline/Sample3/Sanded/NoEther/Jan10/Orientation2/StoS/Attempt2/Trial1/10.0V/pp2.csv\n",
      "(2500, 2) data points saved to /Users/amalcolm/Lauren/Baseline/Sample3/Sanded/NoEther/Jan10/Orientation2/StoS/Attempt2/Trial1/10.0V/pr3.csv\n",
      "(2500, 2) data points saved to /Users/amalcolm/Lauren/Baseline/Sample3/Sanded/NoEther/Jan10/Orientation2/StoS/Attempt2/Trial1/10.0V/pu3.csv\n",
      "(2500, 2) data points saved to /Users/amalcolm/Lauren/Baseline/Sample3/Sanded/NoEther/Jan10/Orientation2/StoS/Attempt2/Trial1/10.0V/pp3.csv\n",
      "(2500, 2) data points saved to /Users/amalcolm/Lauren/Baseline/Sample3/Sanded/NoEther/Jan10/Orientation2/StoS/Attempt2/Trial1/10.0V/pr4.csv\n",
      "(2500, 2) data points saved to /Users/amalcolm/Lauren/Baseline/Sample3/Sanded/NoEther/Jan10/Orientation2/StoS/Attempt2/Trial1/10.0V/pu4.csv\n",
      "(2500, 2) data points saved to /Users/amalcolm/Lauren/Baseline/Sample3/Sanded/NoEther/Jan10/Orientation2/StoS/Attempt2/Trial1/10.0V/pp4.csv\n",
      "(2500, 2) data points saved to /Users/amalcolm/Lauren/Baseline/Sample3/Sanded/NoEther/Jan10/Orientation2/StoS/Attempt2/Trial1/10.0V/pr5.csv\n",
      "(2500, 2) data points saved to /Users/amalcolm/Lauren/Baseline/Sample3/Sanded/NoEther/Jan10/Orientation2/StoS/Attempt2/Trial1/10.0V/pu5.csv\n",
      "(2500, 2) data points saved to /Users/amalcolm/Lauren/Baseline/Sample3/Sanded/NoEther/Jan10/Orientation2/StoS/Attempt2/Trial1/10.0V/pp5.csv\n",
      "(2500, 2) data points saved to /Users/amalcolm/Lauren/Baseline/Sample3/Sanded/NoEther/Jan10/Orientation2/StoS/Attempt2/Trial1/10.0V/pr6.csv\n",
      "(2500, 2) data points saved to /Users/amalcolm/Lauren/Baseline/Sample3/Sanded/NoEther/Jan10/Orientation2/StoS/Attempt2/Trial1/10.0V/pu6.csv\n",
      "(2500, 2) data points saved to /Users/amalcolm/Lauren/Baseline/Sample3/Sanded/NoEther/Jan10/Orientation2/StoS/Attempt2/Trial1/10.0V/pp6.csv\n",
      "(2500, 2) data points saved to /Users/amalcolm/Lauren/Baseline/Sample3/Sanded/NoEther/Jan10/Orientation2/StoS/Attempt2/Trial1/10.0V/pr7.csv\n",
      "(2500, 2) data points saved to /Users/amalcolm/Lauren/Baseline/Sample3/Sanded/NoEther/Jan10/Orientation2/StoS/Attempt2/Trial1/10.0V/pu7.csv\n",
      "(2500, 2) data points saved to /Users/amalcolm/Lauren/Baseline/Sample3/Sanded/NoEther/Jan10/Orientation2/StoS/Attempt2/Trial1/10.0V/pp7.csv\n",
      "(2500, 2) data points saved to /Users/amalcolm/Lauren/Baseline/Sample3/Sanded/NoEther/Jan10/Orientation2/StoS/Attempt2/Trial1/10.0V/pr8.csv\n",
      "(2500, 2) data points saved to /Users/amalcolm/Lauren/Baseline/Sample3/Sanded/NoEther/Jan10/Orientation2/StoS/Attempt2/Trial1/10.0V/pu8.csv\n",
      "(2500, 2) data points saved to /Users/amalcolm/Lauren/Baseline/Sample3/Sanded/NoEther/Jan10/Orientation2/StoS/Attempt2/Trial1/10.0V/pp8.csv\n",
      "(2500, 2) data points saved to /Users/amalcolm/Lauren/Baseline/Sample3/Sanded/NoEther/Jan10/Orientation2/StoS/Attempt2/Trial1/10.0V/pr9.csv\n",
      "(2500, 2) data points saved to /Users/amalcolm/Lauren/Baseline/Sample3/Sanded/NoEther/Jan10/Orientation2/StoS/Attempt2/Trial1/10.0V/pu9.csv\n",
      "(2500, 2) data points saved to /Users/amalcolm/Lauren/Baseline/Sample3/Sanded/NoEther/Jan10/Orientation2/StoS/Attempt2/Trial1/10.0V/pp9.csv\n",
      "(2500, 2) data points saved to /Users/amalcolm/Lauren/Baseline/Sample3/Sanded/NoEther/Jan10/Orientation2/StoS/Attempt2/Trial1/10.0V/pr10.csv\n",
      "(2500, 2) data points saved to /Users/amalcolm/Lauren/Baseline/Sample3/Sanded/NoEther/Jan10/Orientation2/StoS/Attempt2/Trial1/10.0V/pu10.csv\n",
      "(2500, 2) data points saved to /Users/amalcolm/Lauren/Baseline/Sample3/Sanded/NoEther/Jan10/Orientation2/StoS/Attempt2/Trial1/10.0V/pp10.csv\n",
      "(2500, 2) data points saved to /Users/amalcolm/Lauren/Baseline/Sample3/Sanded/NoEther/Jan10/Orientation2/StoS/Attempt2/Trial1/10.0V/pr11.csv\n",
      "(2500, 2) data points saved to /Users/amalcolm/Lauren/Baseline/Sample3/Sanded/NoEther/Jan10/Orientation2/StoS/Attempt2/Trial1/10.0V/pu11.csv\n",
      "(2500, 2) data points saved to /Users/amalcolm/Lauren/Baseline/Sample3/Sanded/NoEther/Jan10/Orientation2/StoS/Attempt2/Trial1/10.0V/pp11.csv\n",
      "(2500, 2) data points saved to /Users/amalcolm/Lauren/Baseline/Sample3/Sanded/NoEther/Jan10/Orientation2/StoS/Attempt2/Trial1/10.0V/pr12.csv\n",
      "(2500, 2) data points saved to /Users/amalcolm/Lauren/Baseline/Sample3/Sanded/NoEther/Jan10/Orientation2/StoS/Attempt2/Trial1/10.0V/pu12.csv\n",
      "(2500, 2) data points saved to /Users/amalcolm/Lauren/Baseline/Sample3/Sanded/NoEther/Jan10/Orientation2/StoS/Attempt2/Trial1/10.0V/pp12.csv\n",
      "(2500, 2) data points saved to /Users/amalcolm/Lauren/Baseline/Sample3/Sanded/NoEther/Jan10/Orientation2/StoS/Attempt2/Trial1/10.0V/pr13.csv\n",
      "(2500, 2) data points saved to /Users/amalcolm/Lauren/Baseline/Sample3/Sanded/NoEther/Jan10/Orientation2/StoS/Attempt2/Trial1/10.0V/pu13.csv\n",
      "(2500, 2) data points saved to /Users/amalcolm/Lauren/Baseline/Sample3/Sanded/NoEther/Jan10/Orientation2/StoS/Attempt2/Trial1/10.0V/pp13.csv\n",
      "(2500, 2) data points saved to /Users/amalcolm/Lauren/Baseline/Sample3/Sanded/NoEther/Jan10/Orientation2/StoS/Attempt2/Trial1/10.0V/pr14.csv\n",
      "(2500, 2) data points saved to /Users/amalcolm/Lauren/Baseline/Sample3/Sanded/NoEther/Jan10/Orientation2/StoS/Attempt2/Trial1/10.0V/pu14.csv\n",
      "(2500, 2) data points saved to /Users/amalcolm/Lauren/Baseline/Sample3/Sanded/NoEther/Jan10/Orientation2/StoS/Attempt2/Trial1/10.0V/pp14.csv\n",
      "(2500, 2) data points saved to /Users/amalcolm/Lauren/Baseline/Sample3/Sanded/NoEther/Jan10/Orientation2/StoS/Attempt2/Trial1/10.0V/pr15.csv\n",
      "(2500, 2) data points saved to /Users/amalcolm/Lauren/Baseline/Sample3/Sanded/NoEther/Jan10/Orientation2/StoS/Attempt2/Trial1/10.0V/pu15.csv\n",
      "(2500, 2) data points saved to /Users/amalcolm/Lauren/Baseline/Sample3/Sanded/NoEther/Jan10/Orientation2/StoS/Attempt2/Trial1/10.0V/pp15.csv\n",
      "(2500, 2) data points saved to /Users/amalcolm/Lauren/Baseline/Sample3/Sanded/NoEther/Jan10/Orientation2/StoS/Attempt2/Trial1/10.0V/pr16.csv\n",
      "(2500, 2) data points saved to /Users/amalcolm/Lauren/Baseline/Sample3/Sanded/NoEther/Jan10/Orientation2/StoS/Attempt2/Trial1/10.0V/pu16.csv\n",
      "(2500, 2) data points saved to /Users/amalcolm/Lauren/Baseline/Sample3/Sanded/NoEther/Jan10/Orientation2/StoS/Attempt2/Trial1/10.0V/pp16.csv\n",
      "(2500, 2) data points saved to /Users/amalcolm/Lauren/Baseline/Sample3/Sanded/NoEther/Jan10/Orientation2/StoS/Attempt2/Trial1/10.0V/pr17.csv\n",
      "(2500, 2) data points saved to /Users/amalcolm/Lauren/Baseline/Sample3/Sanded/NoEther/Jan10/Orientation2/StoS/Attempt2/Trial1/10.0V/pu17.csv\n",
      "(2500, 2) data points saved to /Users/amalcolm/Lauren/Baseline/Sample3/Sanded/NoEther/Jan10/Orientation2/StoS/Attempt2/Trial1/10.0V/pp17.csv\n",
      "(2500, 2) data points saved to /Users/amalcolm/Lauren/Baseline/Sample3/Sanded/NoEther/Jan10/Orientation2/StoS/Attempt2/Trial1/10.0V/pr18.csv\n",
      "(2500, 2) data points saved to /Users/amalcolm/Lauren/Baseline/Sample3/Sanded/NoEther/Jan10/Orientation2/StoS/Attempt2/Trial1/10.0V/pu18.csv\n",
      "(2500, 2) data points saved to /Users/amalcolm/Lauren/Baseline/Sample3/Sanded/NoEther/Jan10/Orientation2/StoS/Attempt2/Trial1/10.0V/pp18.csv\n",
      "(2500, 2) data points saved to /Users/amalcolm/Lauren/Baseline/Sample3/Sanded/NoEther/Jan10/Orientation2/StoS/Attempt2/Trial1/10.0V/pr19.csv\n",
      "(2500, 2) data points saved to /Users/amalcolm/Lauren/Baseline/Sample3/Sanded/NoEther/Jan10/Orientation2/StoS/Attempt2/Trial1/10.0V/pu19.csv\n",
      "(2500, 2) data points saved to /Users/amalcolm/Lauren/Baseline/Sample3/Sanded/NoEther/Jan10/Orientation2/StoS/Attempt2/Trial1/10.0V/pp19.csv\n",
      "(2500, 2) data points saved to /Users/amalcolm/Lauren/Baseline/Sample3/Sanded/NoEther/Jan10/Orientation2/StoS/Attempt2/Trial1/10.0V/pr20.csv\n",
      "(2500, 2) data points saved to /Users/amalcolm/Lauren/Baseline/Sample3/Sanded/NoEther/Jan10/Orientation2/StoS/Attempt2/Trial1/10.0V/pu20.csv\n",
      "(2500, 2) data points saved to /Users/amalcolm/Lauren/Baseline/Sample3/Sanded/NoEther/Jan10/Orientation2/StoS/Attempt2/Trial1/10.0V/pp20.csv\n",
      "(2500, 2) data points saved to /Users/amalcolm/Lauren/Baseline/Sample3/Sanded/NoEther/Jan10/Orientation2/StoS/Attempt2/Trial1/10.0V/pr21.csv\n",
      "(2500, 2) data points saved to /Users/amalcolm/Lauren/Baseline/Sample3/Sanded/NoEther/Jan10/Orientation2/StoS/Attempt2/Trial1/10.0V/pu21.csv\n",
      "(2500, 2) data points saved to /Users/amalcolm/Lauren/Baseline/Sample3/Sanded/NoEther/Jan10/Orientation2/StoS/Attempt2/Trial1/10.0V/pp21.csv\n",
      "(2500, 2) data points saved to /Users/amalcolm/Lauren/Baseline/Sample3/Sanded/NoEther/Jan10/Orientation2/StoS/Attempt2/Trial1/10.0V/pr22.csv\n",
      "(2500, 2) data points saved to /Users/amalcolm/Lauren/Baseline/Sample3/Sanded/NoEther/Jan10/Orientation2/StoS/Attempt2/Trial1/10.0V/pu22.csv\n",
      "(2500, 2) data points saved to /Users/amalcolm/Lauren/Baseline/Sample3/Sanded/NoEther/Jan10/Orientation2/StoS/Attempt2/Trial1/10.0V/pp22.csv\n",
      "(2500, 2) data points saved to /Users/amalcolm/Lauren/Baseline/Sample3/Sanded/NoEther/Jan10/Orientation2/StoS/Attempt2/Trial1/10.0V/pr23.csv\n",
      "(2500, 2) data points saved to /Users/amalcolm/Lauren/Baseline/Sample3/Sanded/NoEther/Jan10/Orientation2/StoS/Attempt2/Trial1/10.0V/pu23.csv\n",
      "(2500, 2) data points saved to /Users/amalcolm/Lauren/Baseline/Sample3/Sanded/NoEther/Jan10/Orientation2/StoS/Attempt2/Trial1/10.0V/pp23.csv\n",
      "(2500, 2) data points saved to /Users/amalcolm/Lauren/Baseline/Sample3/Sanded/NoEther/Jan10/Orientation2/StoS/Attempt2/Trial1/10.0V/pr24.csv\n",
      "(2500, 2) data points saved to /Users/amalcolm/Lauren/Baseline/Sample3/Sanded/NoEther/Jan10/Orientation2/StoS/Attempt2/Trial1/10.0V/pu24.csv\n",
      "(2500, 2) data points saved to /Users/amalcolm/Lauren/Baseline/Sample3/Sanded/NoEther/Jan10/Orientation2/StoS/Attempt2/Trial1/10.0V/pp24.csv\n",
      "(2500, 2) data points saved to /Users/amalcolm/Lauren/Baseline/Sample3/Sanded/NoEther/Jan10/Orientation2/StoS/Attempt2/Trial1/10.0V/pr25.csv\n",
      "(2500, 2) data points saved to /Users/amalcolm/Lauren/Baseline/Sample3/Sanded/NoEther/Jan10/Orientation2/StoS/Attempt2/Trial1/10.0V/pu25.csv\n",
      "(2500, 2) data points saved to /Users/amalcolm/Lauren/Baseline/Sample3/Sanded/NoEther/Jan10/Orientation2/StoS/Attempt2/Trial1/10.0V/pp25.csv\n",
      "(2500, 2) data points saved to /Users/amalcolm/Lauren/Baseline/Sample3/Sanded/NoEther/Jan10/Orientation2/StoS/Attempt2/Trial1/10.0V/pr26.csv\n",
      "(2500, 2) data points saved to /Users/amalcolm/Lauren/Baseline/Sample3/Sanded/NoEther/Jan10/Orientation2/StoS/Attempt2/Trial1/10.0V/pu26.csv\n",
      "(2500, 2) data points saved to /Users/amalcolm/Lauren/Baseline/Sample3/Sanded/NoEther/Jan10/Orientation2/StoS/Attempt2/Trial1/10.0V/pp26.csv\n",
      "(2500, 2) data points saved to /Users/amalcolm/Lauren/Baseline/Sample3/Sanded/NoEther/Jan10/Orientation2/StoS/Attempt2/Trial1/10.0V/pr27.csv\n",
      "(2500, 2) data points saved to /Users/amalcolm/Lauren/Baseline/Sample3/Sanded/NoEther/Jan10/Orientation2/StoS/Attempt2/Trial1/10.0V/pu27.csv\n",
      "(2500, 2) data points saved to /Users/amalcolm/Lauren/Baseline/Sample3/Sanded/NoEther/Jan10/Orientation2/StoS/Attempt2/Trial1/10.0V/pp27.csv\n",
      "(2500, 2) data points saved to /Users/amalcolm/Lauren/Baseline/Sample3/Sanded/NoEther/Jan10/Orientation2/StoS/Attempt2/Trial1/10.0V/pr28.csv\n",
      "(2500, 2) data points saved to /Users/amalcolm/Lauren/Baseline/Sample3/Sanded/NoEther/Jan10/Orientation2/StoS/Attempt2/Trial1/10.0V/pu28.csv\n",
      "(2500, 2) data points saved to /Users/amalcolm/Lauren/Baseline/Sample3/Sanded/NoEther/Jan10/Orientation2/StoS/Attempt2/Trial1/10.0V/pp28.csv\n",
      "(2500, 2) data points saved to /Users/amalcolm/Lauren/Baseline/Sample3/Sanded/NoEther/Jan10/Orientation2/StoS/Attempt2/Trial1/10.0V/pr29.csv\n",
      "(2500, 2) data points saved to /Users/amalcolm/Lauren/Baseline/Sample3/Sanded/NoEther/Jan10/Orientation2/StoS/Attempt2/Trial1/10.0V/pu29.csv\n",
      "(2500, 2) data points saved to /Users/amalcolm/Lauren/Baseline/Sample3/Sanded/NoEther/Jan10/Orientation2/StoS/Attempt2/Trial1/10.0V/pp29.csv\n",
      "(2500, 2) data points saved to /Users/amalcolm/Lauren/Baseline/Sample3/Sanded/NoEther/Jan10/Orientation2/StoS/Attempt2/Trial1/10.0V/pr30.csv\n",
      "(2500, 2) data points saved to /Users/amalcolm/Lauren/Baseline/Sample3/Sanded/NoEther/Jan10/Orientation2/StoS/Attempt2/Trial1/10.0V/pu30.csv\n",
      "(2500, 2) data points saved to /Users/amalcolm/Lauren/Baseline/Sample3/Sanded/NoEther/Jan10/Orientation2/StoS/Attempt2/Trial1/10.0V/pp30.csv\n",
      "(2500, 2) data points saved to /Users/amalcolm/Lauren/Baseline/Sample3/Sanded/NoEther/Jan10/Orientation2/StoS/Attempt2/Trial1/10.0V/pr31.csv\n",
      "(2500, 2) data points saved to /Users/amalcolm/Lauren/Baseline/Sample3/Sanded/NoEther/Jan10/Orientation2/StoS/Attempt2/Trial1/10.0V/pu31.csv\n",
      "(2500, 2) data points saved to /Users/amalcolm/Lauren/Baseline/Sample3/Sanded/NoEther/Jan10/Orientation2/StoS/Attempt2/Trial1/10.0V/pp31.csv\n",
      "(2500, 2) data points saved to /Users/amalcolm/Lauren/Baseline/Sample3/Sanded/NoEther/Jan10/Orientation2/StoS/Attempt2/Trial1/10.0V/pr32.csv\n",
      "(2500, 2) data points saved to /Users/amalcolm/Lauren/Baseline/Sample3/Sanded/NoEther/Jan10/Orientation2/StoS/Attempt2/Trial1/10.0V/pu32.csv\n",
      "(2500, 2) data points saved to /Users/amalcolm/Lauren/Baseline/Sample3/Sanded/NoEther/Jan10/Orientation2/StoS/Attempt2/Trial1/10.0V/pp32.csv\n",
      "(2500, 2) data points saved to /Users/amalcolm/Lauren/Baseline/Sample3/Sanded/NoEther/Jan10/Orientation2/StoS/Attempt2/Trial1/10.0V/pr33.csv\n",
      "(2500, 2) data points saved to /Users/amalcolm/Lauren/Baseline/Sample3/Sanded/NoEther/Jan10/Orientation2/StoS/Attempt2/Trial1/10.0V/pu33.csv\n",
      "(2500, 2) data points saved to /Users/amalcolm/Lauren/Baseline/Sample3/Sanded/NoEther/Jan10/Orientation2/StoS/Attempt2/Trial1/10.0V/pp33.csv\n",
      "(2500, 2) data points saved to /Users/amalcolm/Lauren/Baseline/Sample3/Sanded/NoEther/Jan10/Orientation2/StoS/Attempt2/Trial1/10.0V/pr34.csv\n",
      "(2500, 2) data points saved to /Users/amalcolm/Lauren/Baseline/Sample3/Sanded/NoEther/Jan10/Orientation2/StoS/Attempt2/Trial1/10.0V/pu34.csv\n",
      "(2500, 2) data points saved to /Users/amalcolm/Lauren/Baseline/Sample3/Sanded/NoEther/Jan10/Orientation2/StoS/Attempt2/Trial1/10.0V/pp34.csv\n",
      "(2500, 2) data points saved to /Users/amalcolm/Lauren/Baseline/Sample3/Sanded/NoEther/Jan10/Orientation2/StoS/Attempt2/Trial1/10.0V/pr35.csv\n",
      "(2500, 2) data points saved to /Users/amalcolm/Lauren/Baseline/Sample3/Sanded/NoEther/Jan10/Orientation2/StoS/Attempt2/Trial1/10.0V/pu35.csv\n",
      "(2500, 2) data points saved to /Users/amalcolm/Lauren/Baseline/Sample3/Sanded/NoEther/Jan10/Orientation2/StoS/Attempt2/Trial1/10.0V/pp35.csv\n",
      "(2500, 2) data points saved to /Users/amalcolm/Lauren/Baseline/Sample3/Sanded/NoEther/Jan10/Orientation2/StoS/Attempt2/Trial1/10.0V/pr36.csv\n",
      "(2500, 2) data points saved to /Users/amalcolm/Lauren/Baseline/Sample3/Sanded/NoEther/Jan10/Orientation2/StoS/Attempt2/Trial1/10.0V/pu36.csv\n",
      "(2500, 2) data points saved to /Users/amalcolm/Lauren/Baseline/Sample3/Sanded/NoEther/Jan10/Orientation2/StoS/Attempt2/Trial1/10.0V/pp36.csv\n",
      "(2500, 2) data points saved to /Users/amalcolm/Lauren/Baseline/Sample3/Sanded/NoEther/Jan10/Orientation2/StoS/Attempt2/Trial1/10.0V/pr37.csv\n",
      "(2500, 2) data points saved to /Users/amalcolm/Lauren/Baseline/Sample3/Sanded/NoEther/Jan10/Orientation2/StoS/Attempt2/Trial1/10.0V/pu37.csv\n",
      "(2500, 2) data points saved to /Users/amalcolm/Lauren/Baseline/Sample3/Sanded/NoEther/Jan10/Orientation2/StoS/Attempt2/Trial1/10.0V/pp37.csv\n",
      "(2500, 2) data points saved to /Users/amalcolm/Lauren/Baseline/Sample3/Sanded/NoEther/Jan10/Orientation2/StoS/Attempt2/Trial1/10.0V/pr38.csv\n",
      "(2500, 2) data points saved to /Users/amalcolm/Lauren/Baseline/Sample3/Sanded/NoEther/Jan10/Orientation2/StoS/Attempt2/Trial1/10.0V/pu38.csv\n",
      "(2500, 2) data points saved to /Users/amalcolm/Lauren/Baseline/Sample3/Sanded/NoEther/Jan10/Orientation2/StoS/Attempt2/Trial1/10.0V/pp38.csv\n",
      "(2500, 2) data points saved to /Users/amalcolm/Lauren/Baseline/Sample3/Sanded/NoEther/Jan10/Orientation2/StoS/Attempt2/Trial1/10.0V/pr39.csv\n",
      "(2500, 2) data points saved to /Users/amalcolm/Lauren/Baseline/Sample3/Sanded/NoEther/Jan10/Orientation2/StoS/Attempt2/Trial1/10.0V/pu39.csv\n",
      "(2500, 2) data points saved to /Users/amalcolm/Lauren/Baseline/Sample3/Sanded/NoEther/Jan10/Orientation2/StoS/Attempt2/Trial1/10.0V/pp39.csv\n",
      "(2500, 2) data points saved to /Users/amalcolm/Lauren/Baseline/Sample3/Sanded/NoEther/Jan10/Orientation2/StoS/Attempt2/Trial1/10.0V/pr40.csv\n",
      "(2500, 2) data points saved to /Users/amalcolm/Lauren/Baseline/Sample3/Sanded/NoEther/Jan10/Orientation2/StoS/Attempt2/Trial1/10.0V/pu40.csv\n",
      "(2500, 2) data points saved to /Users/amalcolm/Lauren/Baseline/Sample3/Sanded/NoEther/Jan10/Orientation2/StoS/Attempt2/Trial1/10.0V/pp40.csv\n",
      "(2500, 2) data points saved to /Users/amalcolm/Lauren/Baseline/Sample3/Sanded/NoEther/Jan10/Orientation2/StoS/Attempt2/Trial1/10.0V/pr41.csv\n",
      "(2500, 2) data points saved to /Users/amalcolm/Lauren/Baseline/Sample3/Sanded/NoEther/Jan10/Orientation2/StoS/Attempt2/Trial1/10.0V/pu41.csv\n",
      "(2500, 2) data points saved to /Users/amalcolm/Lauren/Baseline/Sample3/Sanded/NoEther/Jan10/Orientation2/StoS/Attempt2/Trial1/10.0V/pp41.csv\n",
      "(2500, 2) data points saved to /Users/amalcolm/Lauren/Baseline/Sample3/Sanded/NoEther/Jan10/Orientation2/StoS/Attempt2/Trial1/10.0V/pr42.csv\n",
      "(2500, 2) data points saved to /Users/amalcolm/Lauren/Baseline/Sample3/Sanded/NoEther/Jan10/Orientation2/StoS/Attempt2/Trial1/10.0V/pu42.csv\n",
      "(2500, 2) data points saved to /Users/amalcolm/Lauren/Baseline/Sample3/Sanded/NoEther/Jan10/Orientation2/StoS/Attempt2/Trial1/10.0V/pp42.csv\n",
      "(2500, 2) data points saved to /Users/amalcolm/Lauren/Baseline/Sample3/Sanded/NoEther/Jan10/Orientation2/StoS/Attempt2/Trial1/10.0V/pr43.csv\n",
      "(2500, 2) data points saved to /Users/amalcolm/Lauren/Baseline/Sample3/Sanded/NoEther/Jan10/Orientation2/StoS/Attempt2/Trial1/10.0V/pu43.csv\n",
      "(2500, 2) data points saved to /Users/amalcolm/Lauren/Baseline/Sample3/Sanded/NoEther/Jan10/Orientation2/StoS/Attempt2/Trial1/10.0V/pp43.csv\n",
      "(2500, 2) data points saved to /Users/amalcolm/Lauren/Baseline/Sample3/Sanded/NoEther/Jan10/Orientation2/StoS/Attempt2/Trial1/10.0V/pr44.csv\n",
      "(2500, 2) data points saved to /Users/amalcolm/Lauren/Baseline/Sample3/Sanded/NoEther/Jan10/Orientation2/StoS/Attempt2/Trial1/10.0V/pu44.csv\n",
      "(2500, 2) data points saved to /Users/amalcolm/Lauren/Baseline/Sample3/Sanded/NoEther/Jan10/Orientation2/StoS/Attempt2/Trial1/10.0V/pp44.csv\n",
      "(2500, 2) data points saved to /Users/amalcolm/Lauren/Baseline/Sample3/Sanded/NoEther/Jan10/Orientation2/StoS/Attempt2/Trial1/10.0V/pr45.csv\n",
      "(2500, 2) data points saved to /Users/amalcolm/Lauren/Baseline/Sample3/Sanded/NoEther/Jan10/Orientation2/StoS/Attempt2/Trial1/10.0V/pu45.csv\n",
      "(2500, 2) data points saved to /Users/amalcolm/Lauren/Baseline/Sample3/Sanded/NoEther/Jan10/Orientation2/StoS/Attempt2/Trial1/10.0V/pp45.csv\n",
      "(2500, 2) data points saved to /Users/amalcolm/Lauren/Baseline/Sample3/Sanded/NoEther/Jan10/Orientation2/StoS/Attempt2/Trial1/10.0V/pr46.csv\n",
      "(2500, 2) data points saved to /Users/amalcolm/Lauren/Baseline/Sample3/Sanded/NoEther/Jan10/Orientation2/StoS/Attempt2/Trial1/10.0V/pu46.csv\n",
      "(2500, 2) data points saved to /Users/amalcolm/Lauren/Baseline/Sample3/Sanded/NoEther/Jan10/Orientation2/StoS/Attempt2/Trial1/10.0V/pp46.csv\n",
      "(2500, 2) data points saved to /Users/amalcolm/Lauren/Baseline/Sample3/Sanded/NoEther/Jan10/Orientation2/StoS/Attempt2/Trial1/10.0V/pr47.csv\n",
      "(2500, 2) data points saved to /Users/amalcolm/Lauren/Baseline/Sample3/Sanded/NoEther/Jan10/Orientation2/StoS/Attempt2/Trial1/10.0V/pu47.csv\n",
      "(2500, 2) data points saved to /Users/amalcolm/Lauren/Baseline/Sample3/Sanded/NoEther/Jan10/Orientation2/StoS/Attempt2/Trial1/10.0V/pp47.csv\n",
      "(2500, 2) data points saved to /Users/amalcolm/Lauren/Baseline/Sample3/Sanded/NoEther/Jan10/Orientation2/StoS/Attempt2/Trial1/10.0V/pr48.csv\n",
      "(2500, 2) data points saved to /Users/amalcolm/Lauren/Baseline/Sample3/Sanded/NoEther/Jan10/Orientation2/StoS/Attempt2/Trial1/10.0V/pu48.csv\n",
      "(2500, 2) data points saved to /Users/amalcolm/Lauren/Baseline/Sample3/Sanded/NoEther/Jan10/Orientation2/StoS/Attempt2/Trial1/10.0V/pp48.csv\n",
      "(2500, 2) data points saved to /Users/amalcolm/Lauren/Baseline/Sample3/Sanded/NoEther/Jan10/Orientation2/StoS/Attempt2/Trial1/10.0V/pr49.csv\n",
      "(2500, 2) data points saved to /Users/amalcolm/Lauren/Baseline/Sample3/Sanded/NoEther/Jan10/Orientation2/StoS/Attempt2/Trial1/10.0V/pu49.csv\n",
      "(2500, 2) data points saved to /Users/amalcolm/Lauren/Baseline/Sample3/Sanded/NoEther/Jan10/Orientation2/StoS/Attempt2/Trial1/10.0V/pp49.csv\n"
     ]
    },
    {
     "data": {
      "text/plain": [
       "(13L, <StatusCode.success: 0>)"
      ]
     },
     "execution_count": 56,
     "metadata": {},
     "output_type": "execute_result"
    }
   ],
   "source": [
    "for itrial in range(Ntrials):\n",
    "    for ampval in AMP:\n",
    "        funcgen.write(\":SOUR2:VOLT\"+\" \"+str(ampval)+\"\\n\")\n",
    "        funcgen.write(\":OUTP1 ON\\n\")\n",
    "        funcgen.write(\":OUTP2 ON\\n\")\n",
    "        cmd=\":TRIG:DEL \"+str(0)+\"us\\n\"\n",
    "        funcgen.write(cmd)\n",
    "        fname_root_add=fname_root+\"Trial\"+str(itrial+1)+\"/\"+str(ampval)+\"V/\"\n",
    "        fname=fname_root_add+str(\"STrans_B4.csv\")\n",
    "        osc.write(\":TIM:REF LEFT\\n\")\n",
    "        osc.write(\":TIM:SCAL 20us\\n\")\n",
    "        osc.write(\":TIM:DEL 30us\\n\")\n",
    "        osc.write(\"CHANnel2:SCALe 25\\n\")\n",
    "        saveWave(osc,fname,[2])\n",
    "        osc.write(\":TIM:SCAL 1.0us\\n\")\n",
    "        scaldel=1\n",
    "        for delay in delayvec:\n",
    "            #set delay\n",
    "            cmd=\":TRIG:DEL \"+str(delay)+\"us\\n\"\n",
    "            funcgen.write(cmd)\n",
    "    \n",
    "            osc.write(\":TIM:DEL \"+ str(addtodelay+delay)+\"us\\n\")\n",
    "\n",
    "            #record probe only\n",
    "            funcgen.write(\":OUTP1 ON\\n\") #probe on\n",
    "            funcgen.write(\":OUTP2 OFF\\n\") #PUMP off\n",
    "\n",
    "            time.sleep(t_delay)\n",
    "\n",
    "            fname=fname_root_add+\"pr\"+str(int(scaldel*delay))+\".csv\"\n",
    "            saveWave(osc,fname,[1])\n",
    "\n",
    "            #record PUMP only\n",
    "            osc.write(\":TIM:DEL \"+ str(addtodelay+delay)+\"us\\n\")\n",
    "            funcgen.write(\":OUTP1 OFF\\n\") #probe on\n",
    "            funcgen.write(\":OUTP2 ON\\n\") #PUMP off\n",
    "            time.sleep(t_delay)\n",
    "\n",
    "            fname=fname_root_add+\"pu\"+str(int(scaldel*delay))+\".csv\"\n",
    "            saveWave(osc,fname,[1])\n",
    "\n",
    "            #record PUMP and probe\n",
    "            osc.write(\":TIM:DEL \"+ str(addtodelay+delay)+\"us\\n\")\n",
    "            funcgen.write(\":OUTP1 ON\\n\") #probe on\n",
    "            funcgen.write(\":OUTP2 ON\\n\") #PUMP off\n",
    "            time.sleep(t_delay)\n",
    "\n",
    "            fname=fname_root_add+\"pp\"+str(int(scaldel*delay))+\".csv\"\n",
    "            saveWave(osc,fname,[1])\n",
    "            \n",
    "funcgen.write(\":OUTP1 OFF\\n\")\n",
    "funcgen.write(\":OUTP2 OFF\\n\")"
   ]
  },
  {
   "cell_type": "code",
   "execution_count": null,
   "metadata": {},
   "outputs": [],
   "source": [
    "#funcgen.close()\n",
    "#osc.close()"
   ]
  },
  {
   "cell_type": "code",
   "execution_count": null,
   "metadata": {
    "collapsed": true
   },
   "outputs": [],
   "source": []
  }
 ],
 "metadata": {
  "anaconda-cloud": {},
  "kernelspec": {
   "display_name": "Python 3 (ipykernel)",
   "language": "python",
   "name": "python3"
  },
  "language_info": {
   "codemirror_mode": {
    "name": "ipython",
    "version": 3
   },
   "file_extension": ".py",
   "mimetype": "text/x-python",
   "name": "python",
   "nbconvert_exporter": "python",
   "pygments_lexer": "ipython3",
   "version": "3.7.12"
  }
 },
 "nbformat": 4,
 "nbformat_minor": 1
}
