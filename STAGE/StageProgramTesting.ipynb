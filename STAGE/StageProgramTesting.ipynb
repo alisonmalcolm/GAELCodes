{
 "cells": [
  {
   "cell_type": "markdown",
   "id": "9ca98797",
   "metadata": {},
   "source": [
    "## This set of codes is designed to help you run a velmex stage. \n",
    "\n",
    "It builds heavily on codes by Steve Brown, and those available here: \n",
    "https://github.com/unkatoco/Velmex/blob/master/velmex.py\n",
    "\n",
    "Our stage has 2 axis, one horizontal (x) and one vertical (y). \n",
    "\n",
    "There are codes to: \n",
    "1. Find the serial ports on your machine.\n",
    "2. Open communication and check that you are indeed communicating with the stage.\n",
    "3. Set the zero location of the stage.\n",
    "4. Move the stage a certain number of rotations.\n",
    "5. Move the stage a certain distance.\n",
    "6. Get the stage's location.\n",
    "7. Move the stage to a specific position."
   ]
  },
  {
   "cell_type": "code",
   "execution_count": 1,
   "id": "040edc99",
   "metadata": {},
   "outputs": [],
   "source": [
    "import numpy as np\n",
    "import sys\n",
    "import time\n",
    "import serial\n",
    "ser = serial.Serial()"
   ]
  },
  {
   "cell_type": "markdown",
   "id": "3d519246",
   "metadata": {},
   "source": [
    "First find the serial ports.  "
   ]
  },
  {
   "cell_type": "code",
   "execution_count": 2,
   "id": "fcd85be8",
   "metadata": {},
   "outputs": [
    {
     "name": "stdout",
     "output_type": "stream",
     "text": [
      "['/dev/cu.BLTH', '/dev/cu.Bluetooth-Incoming-Port', '/dev/cu.usbserial-AL030TI8']\n"
     ]
    }
   ],
   "source": [
    "import serial.tools.list_ports; \n",
    "print([comport.device for comport in serial.tools.list_ports.comports()])"
   ]
  },
  {
   "cell_type": "markdown",
   "id": "d9a643a5",
   "metadata": {},
   "source": [
    "Now setup the parameters for your connection."
   ]
  },
  {
   "cell_type": "code",
   "execution_count": 16,
   "id": "8963fdd4",
   "metadata": {},
   "outputs": [],
   "source": [
    "ser.port=\"/dev/tty.usbserial-AL030TI8\"  #change this to the path to your serial port (or possibly just its name depending on your OS)\n",
    "\n",
    "ser.baudrate = 9600\n",
    "ser.bytesize = serial.EIGHTBITS\t\t#number of bits per bytes\n",
    "ser.parity = serial.PARITY_NONE\t\t#set parity check: no parity\n",
    "ser.stopbits = serial.STOPBITS_ONE\t#number of stop bits\n",
    "\n",
    "#ser.timeout = None\t\t#block read\n",
    "ser.timeout = 1\t\t\t#non-block read\n",
    "#ser.timeout = 2\t\t        #timeout block read\n",
    "\n",
    "ser.xonxoff = False\t\t#disable software flow control\n",
    "ser.rtscts = False\t\t#disable hardware (RTS/CTS) flow control\n",
    "ser.dsrdtr = False\t\t#disable hardware (DSR/DTR) flow control\n",
    "ser.writeTimeout = 2\t        #timeout for write\n",
    "\n",
    "ser.open() "
   ]
  },
  {
   "cell_type": "markdown",
   "id": "dc71656d",
   "metadata": {},
   "source": [
    "Now get a status report.  \n",
    "\n",
    "This should return R, but J is OK too, ignore the '^'s."
   ]
  },
  {
   "cell_type": "code",
   "execution_count": 18,
   "id": "f11d7f77",
   "metadata": {
    "scrolled": true
   },
   "outputs": [
    {
     "name": "stdout",
     "output_type": "stream",
     "text": [
      "R\n"
     ]
    }
   ],
   "source": [
    " #connect to the stage\n",
    "ser.write(\"V\".encode())  #check that you are connected, \n",
    "out=ser.readline()\n",
    "print(out.decode())"
   ]
  },
  {
   "cell_type": "markdown",
   "id": "16008b5e",
   "metadata": {},
   "source": [
    "Now set the zero location of the stage.  This sets it to bottom left, but there are comments showing how to put it elsewhere."
   ]
  },
  {
   "cell_type": "code",
   "execution_count": 19,
   "id": "03aa337d",
   "metadata": {},
   "outputs": [
    {
     "data": {
      "text/plain": [
       "1"
      ]
     },
     "execution_count": 19,
     "metadata": {},
     "output_type": "execute_result"
    }
   ],
   "source": [
    "ser.write(\"F,C,I1M-0,R\".encode())  #move all the way to the left (-), change the number to choose a new position\n",
    "time.sleep(30)\n",
    "ser.write(\"N\".encode())\n",
    "time.sleep(.5)\n",
    "ser.write(\"F,C,I2M0,R\".encode())  #move all the way to the bottom (+)\n",
    "time.sleep(30)  #wait 30 seconds, note if you don't wait long enough this will not work\n",
    "ser.write(\"N\".encode())  #reset the counter to zero here \n",
    "\n",
    "\n"
   ]
  },
  {
   "cell_type": "markdown",
   "id": "107f0376",
   "metadata": {},
   "source": [
    "Get the stage's current location"
   ]
  },
  {
   "cell_type": "code",
   "execution_count": 6,
   "id": "6d80736a",
   "metadata": {},
   "outputs": [],
   "source": [
    "def GetLoc():\n",
    "    ser.write(\"Y\".encode())  #tell the stage you want to know about the y (vertical) axis\n",
    "    pos=ser.readline()       #read the info from the scope\n",
    "    pos1=pos.decode()        #change it from bytes to numbers\n",
    "\n",
    "    #remove weird characters from the beginning\n",
    "    ii=0\n",
    "    while not(pos1[ii]=='+' or pos1[ii]=='-'):\n",
    "        ii=ii+1\n",
    "    # extract sign\n",
    "    sign=1                   \n",
    "    if pos1[ii]=='-':\n",
    "        sign=-1\n",
    "    #convert to integer\n",
    "    pos1 = int(''.join([x for x in pos1[ii:] if x.isdigit()])) # parseint\n",
    "    #incorporate the sign into the integer\n",
    "    pos1=sign*pos1\n",
    "\n",
    "    #Now repeat for the x-axis\n",
    "    ser.write(\"X\".encode())\n",
    "    pos=ser.readline()\n",
    "    pos2=pos.decode()\n",
    "    ii=0\n",
    "    while not(pos2[ii]=='+' or pos2[ii]=='-'):\n",
    "        ii=ii+1\n",
    "    sign=1\n",
    "    if pos2[ii]=='-':\n",
    "        sign=-1\n",
    "    pos2 = int(''.join([x for x in pos2[ii:] if x.isdigit()])) # parseint\n",
    "    pos2=sign*pos2\n",
    "            #Y, X\n",
    "    return pos1,pos2\n"
   ]
  },
  {
   "cell_type": "code",
   "execution_count": 7,
   "id": "00b27987",
   "metadata": {},
   "outputs": [
    {
     "name": "stdout",
     "output_type": "stream",
     "text": [
      "0 0\n"
     ]
    }
   ],
   "source": [
    "posy,posx=GetLoc()\n",
    "print(posx,posy)"
   ]
  },
  {
   "cell_type": "markdown",
   "id": "d6be6015",
   "metadata": {},
   "source": [
    "Move the stage a certain distance (in mm).  Note that this incorporates a check that you will not move past the boundary of the stage's range (with the laser attached), but that check is not perfect, and can be messed up if you have moved the stage a lot.  You should reset the origin frequently if you are using this code to move large distances.  Note also that there are several pauses in this code to wait for the stage to move.  You can change this, but if you make it too short then it will not move the second axis."
   ]
  },
  {
   "cell_type": "code",
   "execution_count": 8,
   "id": "aa3c15b2",
   "metadata": {},
   "outputs": [],
   "source": [
    "def Move(Xmm,Ymm,waittime=10,Xmax=43000,Ymin=-48000):\n",
    "    #Move Xmm in the x-direction (- numbers goes to left, + numbers goes to right)\n",
    "    #Move Ymm in the y-direction (- numbers goes up, + numbers goes to down)\n",
    "    #waittime=10 time to wait between motions for the stage to finish moving\n",
    "    #Xmax=43000 maximum distance stage can move in X (in revolutions)\n",
    "    #Ymax=-48000 maximum distance stage can move in Y (in revolutions)\n",
    "    #With failsafe to ensure that it doesn't go too far on any axis.\n",
    "    #But that failsafe is not perfect, you should reset the origin before using this code for large motions\n",
    "   \n",
    "    #First convert the distances to revolutions:\n",
    "    StepsPermm = 400 / (2.54)   #stage motion is 400 revolutions per 0.1 inch, convert to mm\n",
    "    \n",
    "    Distx_rev=Xmm*StepsPermm\n",
    "    Disty_rev=Ymm*StepsPermm\n",
    "   \n",
    "    #Find current position (for error trapping)\n",
    "    posy,posx=GetLoc()\n",
    "    #wait for it to finish\n",
    "    time.sleep(waittime)\n",
    "    #Move the stage in x if distance is OK\n",
    "    if ((posx+Distx_rev)<Xmax and (posx+Distx_rev)>0):\n",
    "        ser.write((\"F,C,I1M\"+str(round(Distx_rev,0))+\",R\").encode()) \n",
    "    else: \n",
    "        print(\"Asked to move too far in X, moving to max allowed\")\n",
    "        if (posx+Distx_rev)>=Xmax:\n",
    "            ser.write((\"F,C,IA1M\"+str(round(Xmax,0))+\",R\").encode())\n",
    "        else:\n",
    "            ser.write((\"F,C,IA1M\"+str(0)+\",R\").encode())\n",
    "     \n",
    "    #Wait for it to finish moving\n",
    "    time.sleep(waittime)\n",
    "    \n",
    "    #repeat in Y\n",
    "    if ((posy+Disty_rev)>Ymin and (posy+Disty_rev)<0):\n",
    "        ser.write((\"F,C,I2M\"+str(round(Disty_rev,0))+\",R\").encode())  \n",
    "    else: \n",
    "        print(\"Asked to move too far in Y, moving to max allowed\")\n",
    "        if (posy+Disty_rev)<Ymin:\n",
    "            ser.write((\"F,C,IA2M\"+str(Ymin)+\",R\").encode())\n",
    "        else:\n",
    "            ser.write((\"F,C,IA2M\"+str(0)+\",R\").encode())\n",
    "\n",
    "\n"
   ]
  },
  {
   "cell_type": "markdown",
   "id": "627ea6c0",
   "metadata": {},
   "source": [
    "Move the stage to a specific location in mm from the origin.  Similar to Move, but instead of moving a certain distance, it moves the stage to a specific location.  Same warnings apply about making sure that the origin is set properly, particularly if you will be anywhere near the limits of the stage's motion."
   ]
  },
  {
   "cell_type": "code",
   "execution_count": 9,
   "id": "363c74c1",
   "metadata": {},
   "outputs": [],
   "source": [
    "def CoordMove(Xmm,Ymm,waittime=10,Xmax=43000,Ymin=-48000):\n",
    "    #Move Xmm in the x-direction (- numbers goes to left, + numbers goes to right)\n",
    "    #Move Ymm in the y-direction (- numbers goes up, + numbers goes to down)\n",
    "    #waittime=10 time to wait between motions for the stage to finish moving\n",
    "    #Xmax=43000 maximum distance stage can move in X (in revolutions)\n",
    "    #Ymax=-48000 maximum distance stage can move in Y (in revolutions)\n",
    "\n",
    "#With failsafe to ensure that it doesn't go too far on any axis.\n",
    "    \n",
    "    #First convert the distances to revolutions:\n",
    "    StepsPermm = 400 / (2.54)   #stage motion is 400 revolutions per 0.1 inch, convert to mm\n",
    "    \n",
    "    Distx_rev=Xmm*StepsPermm\n",
    "    Disty_rev=Ymm*StepsPermm\n",
    "   \n",
    "    #Find current position (for error trapping)\n",
    "    posy,posx=GetLoc()\n",
    "    #wait for it to finish\n",
    "    time.sleep(waittime)\n",
    "    #Move the stage in x if distance is OK\n",
    "    if ((Distx_rev)<Xmax and Distx_rev>0):\n",
    "        ser.write((\"F,C,IA1M\"+str(round(Distx_rev,0))+\",R\").encode()) \n",
    "    else: \n",
    "        print(\"Asked to move too far in X, moving to max location\")\n",
    "        if Distx_rev>Xmax:\n",
    "            ser.write((\"F,C,IA1M\"+str(round(Xmax,0))+\",R\").encode())\n",
    "        else: \n",
    "            ser.write((\"F,C,IA1M\"+str(0)+\",R\").encode())\n",
    "     \n",
    "    #Wait for it to finish moving\n",
    "    time.sleep(waittime)\n",
    "    \n",
    "    #repeat in Y\n",
    "    if ((Disty_rev)>Ymin and Disty_rev<0):\n",
    "        ser.write((\"F,C,I2M\"+str(round(Disty_rev,0))+\",R\").encode())  \n",
    "    else: \n",
    "        print(\"Asked to move too far in Y, moving to max allowed\")\n",
    "        if Disty_rev<0:\n",
    "            ser.write((\"F,C,IA2M\"+str(Ymin)+\",R\").encode())\n",
    "        else:\n",
    "            ser.write((\"F,C,IA2M\"+str(0)+\",R\").encode())\n",
    "\n",
    "                      \n",
    "\n"
   ]
  },
  {
   "cell_type": "markdown",
   "id": "bfa2cdce",
   "metadata": {},
   "source": [
    "Demo of how to use the move function"
   ]
  },
  {
   "cell_type": "code",
   "execution_count": 20,
   "id": "bcb73e91",
   "metadata": {
    "scrolled": true
   },
   "outputs": [],
   "source": [
    "Move(10,-10)"
   ]
  },
  {
   "cell_type": "markdown",
   "id": "9540ffc3",
   "metadata": {},
   "source": [
    "Change the wait-time because it's a short move"
   ]
  },
  {
   "cell_type": "code",
   "execution_count": 21,
   "id": "cbc16de8",
   "metadata": {},
   "outputs": [],
   "source": [
    "Move(3,-3,waittime=3)"
   ]
  },
  {
   "cell_type": "markdown",
   "id": "c25a01ca",
   "metadata": {},
   "source": [
    "Demo of the coordinate move, which is quite similar!"
   ]
  },
  {
   "cell_type": "code",
   "execution_count": 22,
   "id": "b83530b9",
   "metadata": {},
   "outputs": [],
   "source": [
    "CoordMove(20,-20)"
   ]
  },
  {
   "cell_type": "markdown",
   "id": "933d6dff",
   "metadata": {},
   "source": [
    "Clean-up, close the connection to the device when you are finished."
   ]
  },
  {
   "cell_type": "code",
   "execution_count": 13,
   "id": "3f425a2d",
   "metadata": {},
   "outputs": [],
   "source": [
    "ser.close()"
   ]
  },
  {
   "cell_type": "markdown",
   "id": "19d35c87",
   "metadata": {},
   "source": [
    "Use this if the motor is spinning and the stage is at its limits (or press the red button on the controller)."
   ]
  },
  {
   "cell_type": "code",
   "execution_count": 14,
   "id": "3f28a371",
   "metadata": {
    "scrolled": false
   },
   "outputs": [
    {
     "ename": "PortNotOpenError",
     "evalue": "Attempting to use a port that is not open",
     "output_type": "error",
     "traceback": [
      "\u001b[0;31m---------------------------------------------------------------------------\u001b[0m",
      "\u001b[0;31mPortNotOpenError\u001b[0m                          Traceback (most recent call last)",
      "\u001b[0;32m/var/folders/st/hcync8bj1yn1j3bx3sh8m5j40000gn/T/ipykernel_3254/467832671.py\u001b[0m in \u001b[0;36m<module>\u001b[0;34m\u001b[0m\n\u001b[0;32m----> 1\u001b[0;31m \u001b[0mser\u001b[0m\u001b[0;34m.\u001b[0m\u001b[0mwrite\u001b[0m\u001b[0;34m(\u001b[0m\u001b[0;34m\"K\"\u001b[0m\u001b[0;34m.\u001b[0m\u001b[0mencode\u001b[0m\u001b[0;34m(\u001b[0m\u001b[0;34m)\u001b[0m\u001b[0;34m)\u001b[0m  \u001b[0;31m#Emergency stop, all axes\u001b[0m\u001b[0;34m\u001b[0m\u001b[0;34m\u001b[0m\u001b[0m\n\u001b[0m",
      "\u001b[0;32m/opt/anaconda3/lib/python3.7/site-packages/serial/serialposix.py\u001b[0m in \u001b[0;36mwrite\u001b[0;34m(self, data)\u001b[0m\n\u001b[1;32m    613\u001b[0m         \u001b[0;34m\"\"\"Output the given byte string over the serial port.\"\"\"\u001b[0m\u001b[0;34m\u001b[0m\u001b[0;34m\u001b[0m\u001b[0m\n\u001b[1;32m    614\u001b[0m         \u001b[0;32mif\u001b[0m \u001b[0;32mnot\u001b[0m \u001b[0mself\u001b[0m\u001b[0;34m.\u001b[0m\u001b[0mis_open\u001b[0m\u001b[0;34m:\u001b[0m\u001b[0;34m\u001b[0m\u001b[0;34m\u001b[0m\u001b[0m\n\u001b[0;32m--> 615\u001b[0;31m             \u001b[0;32mraise\u001b[0m \u001b[0mPortNotOpenError\u001b[0m\u001b[0;34m(\u001b[0m\u001b[0;34m)\u001b[0m\u001b[0;34m\u001b[0m\u001b[0;34m\u001b[0m\u001b[0m\n\u001b[0m\u001b[1;32m    616\u001b[0m         \u001b[0md\u001b[0m \u001b[0;34m=\u001b[0m \u001b[0mto_bytes\u001b[0m\u001b[0;34m(\u001b[0m\u001b[0mdata\u001b[0m\u001b[0;34m)\u001b[0m\u001b[0;34m\u001b[0m\u001b[0;34m\u001b[0m\u001b[0m\n\u001b[1;32m    617\u001b[0m         \u001b[0mtx_len\u001b[0m \u001b[0;34m=\u001b[0m \u001b[0mlength\u001b[0m \u001b[0;34m=\u001b[0m \u001b[0mlen\u001b[0m\u001b[0;34m(\u001b[0m\u001b[0md\u001b[0m\u001b[0;34m)\u001b[0m\u001b[0;34m\u001b[0m\u001b[0;34m\u001b[0m\u001b[0m\n",
      "\u001b[0;31mPortNotOpenError\u001b[0m: Attempting to use a port that is not open"
     ]
    }
   ],
   "source": [
    "ser.write(\"K\".encode())  #Emergency stop, all axes"
   ]
  },
  {
   "cell_type": "code",
   "execution_count": null,
   "id": "fb500292",
   "metadata": {},
   "outputs": [],
   "source": [
    "ser.flushInput()\t        #flush input buffer, discarding all its contents\n",
    "ser.flushOutput()"
   ]
  }
 ],
 "metadata": {
  "kernelspec": {
   "display_name": "Python 3 (ipykernel)",
   "language": "python",
   "name": "python3"
  },
  "language_info": {
   "codemirror_mode": {
    "name": "ipython",
    "version": 3
   },
   "file_extension": ".py",
   "mimetype": "text/x-python",
   "name": "python",
   "nbconvert_exporter": "python",
   "pygments_lexer": "ipython3",
   "version": "3.7.12"
  }
 },
 "nbformat": 4,
 "nbformat_minor": 5
}
